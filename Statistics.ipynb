{
 "cells": [
  {
   "cell_type": "code",
   "execution_count": 1,
   "outputs": [],
   "source": [
    "import os\n",
    "list_of_files = []\n",
    "for (dirpath, dirnames, filenames) in os.walk(\"data/dialogues\"):\n",
    "    for filename in filenames:\n",
    "        if filename.endswith('.json') and \"_ood\" not in filename:\n",
    "            list_of_files.append(os.sep.join([dirpath, filename]))"
   ],
   "metadata": {
    "collapsed": false,
    "pycharm": {
     "name": "#%%\n"
    }
   }
  },
  {
   "cell_type": "code",
   "execution_count": 3,
   "outputs": [],
   "source": [
    "import json\n",
    "\n",
    "queries = []\n",
    "avg_train = []\n",
    "avg_valid = []\n",
    "avg_test = []\n",
    "train_queries = []\n",
    "valid_queries = []\n",
    "test_queries = []\n",
    "idx_dialogues = 0\n",
    "idx_user_input = 0\n",
    "avg_intents_per_user_input = []\n",
    "\n",
    "for path in list_of_files:\n",
    "    # print(path)\n",
    "    with open(path, \"r\") as f:\n",
    "        data = json.load(f)\n",
    "\n",
    "    idx_dialogues += 1\n",
    "    idx_user_input += len(data[\"decisionNodes\"])\n",
    "\n",
    "    for decision_point in data[\"decisionNodes\"]:\n",
    "        avg_intents_per_user_input.append(len(data[\"links\"][str(decision_point)]) + len(data[\"globalIntents\"]))\n",
    "\n",
    "    for key, d in data[\"intents\"].items():\n",
    "        queries.extend(d[\"train\"])\n",
    "        train_queries.extend(d[\"train\"])\n",
    "        avg_train.append(len(d[\"train\"]))\n",
    "        queries.extend(d[\"test\"])\n",
    "        test_queries.extend(d[\"test\"])\n",
    "        avg_test.append(len(d[\"test\"]))\n",
    "        queries.extend(d[\"val\"])\n",
    "        valid_queries.extend(d[\"val\"])\n",
    "        avg_valid.append(len(d[\"val\"]))\n",
    "        # if len(d[\"test\"]) > len(d[\"train\"]):\n",
    "        # print(key, path, len(d[\"train\"]), len(d[\"test\"]))\n",
    "        # if len(d[\"test\"]) > 40:\n",
    "        #     d[\"val\"] = ([x for x in d[\"test\"]][:8])\n",
    "        #     d[\"test\"] = [x for x in d[\"test\"]][8:]\n",
    "        # else:\n",
    "        #     d[\"val\"] = ([x for x in d[\"test\"]][:2])\n",
    "        #     d[\"test\"] = [x for x in d[\"test\"]][2:]\n",
    "        # d[\"val\"].extend([x for x in d[\"train\"]][:1])\n",
    "        # d[\"train\"] = [x for x in d[\"train\"]][1:]\n",
    "        # print(key, path, len(d[\"train\"]), len(d[\"val\"]), len(d[\"test\"]))\n",
    "\n",
    "    for key, dd in data[\"globalIntents\"].items():\n",
    "        queries.extend(dd[\"train\"])\n",
    "        train_queries.extend(dd[\"train\"])\n",
    "        avg_train.append(len(dd[\"train\"]))\n",
    "        queries.extend(dd[\"test\"])\n",
    "        test_queries.extend(dd[\"test\"])\n",
    "        avg_test.append(len(dd[\"test\"]))\n",
    "        queries.extend(dd[\"val\"])\n",
    "        valid_queries.extend(dd[\"val\"])\n",
    "        avg_valid.append(len(dd[\"val\"]))\n",
    "        # if len(dd[\"test\"]) > 40:\n",
    "        #     dd[\"val\"] = ([x for x in dd[\"test\"]][:8])\n",
    "        #     dd[\"test\"] = [x for x in dd[\"test\"]][8:]\n",
    "        # else:\n",
    "        #     dd[\"val\"] = ([x for x in dd[\"test\"]][:2])\n",
    "        #     dd[\"test\"] = [x for x in dd[\"test\"]][2:]\n",
    "\n",
    "    # with open(path, \"w\") as f:\n",
    "    #     json.dump(data, f, indent=4)"
   ],
   "metadata": {
    "collapsed": false,
    "pycharm": {
     "name": "#%%\n"
    }
   }
  },
  {
   "cell_type": "code",
   "execution_count": 4,
   "outputs": [
    {
     "data": {
      "text/plain": "80878"
     },
     "execution_count": 4,
     "metadata": {},
     "output_type": "execute_result"
    }
   ],
   "source": [
    "len(queries)"
   ],
   "metadata": {
    "collapsed": false,
    "pycharm": {
     "name": "#%%\n"
    }
   }
  },
  {
   "cell_type": "code",
   "execution_count": 5,
   "outputs": [
    {
     "data": {
      "text/plain": "70"
     },
     "execution_count": 5,
     "metadata": {},
     "output_type": "execute_result"
    }
   ],
   "source": [
    "idx_dialogues"
   ],
   "metadata": {
    "collapsed": false,
    "pycharm": {
     "name": "#%%\n"
    }
   }
  },
  {
   "cell_type": "code",
   "execution_count": 6,
   "outputs": [
    {
     "data": {
      "text/plain": "260"
     },
     "execution_count": 6,
     "metadata": {},
     "output_type": "execute_result"
    }
   ],
   "source": [
    "idx_user_input"
   ],
   "metadata": {
    "collapsed": false,
    "pycharm": {
     "name": "#%%\n"
    }
   }
  },
  {
   "cell_type": "code",
   "execution_count": 7,
   "outputs": [
    {
     "data": {
      "text/plain": "20.592307692307692"
     },
     "execution_count": 7,
     "metadata": {},
     "output_type": "execute_result"
    }
   ],
   "source": [
    "sum(avg_intents_per_user_input)/len(avg_intents_per_user_input)"
   ],
   "metadata": {
    "collapsed": false,
    "pycharm": {
     "name": "#%%\n"
    }
   }
  },
  {
   "cell_type": "code",
   "execution_count": 8,
   "outputs": [
    {
     "data": {
      "text/plain": "5354"
     },
     "execution_count": 8,
     "metadata": {},
     "output_type": "execute_result"
    }
   ],
   "source": [
    "sum(avg_intents_per_user_input)"
   ],
   "metadata": {
    "collapsed": false,
    "pycharm": {
     "name": "#%%\n"
    }
   }
  },
  {
   "cell_type": "code",
   "execution_count": 9,
   "outputs": [
    {
     "data": {
      "text/plain": "14758"
     },
     "execution_count": 9,
     "metadata": {},
     "output_type": "execute_result"
    }
   ],
   "source": [
    "len(set(queries))"
   ],
   "metadata": {
    "collapsed": false,
    "pycharm": {
     "name": "#%%\n"
    }
   }
  },
  {
   "cell_type": "code",
   "execution_count": 10,
   "outputs": [
    {
     "data": {
      "text/plain": "2771"
     },
     "execution_count": 10,
     "metadata": {},
     "output_type": "execute_result"
    }
   ],
   "source": [
    "len(set([word for sentence in queries for word in sentence.split(\" \")]))"
   ],
   "metadata": {
    "collapsed": false,
    "pycharm": {
     "name": "#%%\n"
    }
   }
  },
  {
   "cell_type": "code",
   "execution_count": 19,
   "outputs": [
    {
     "data": {
      "text/plain": "1094"
     },
     "execution_count": 19,
     "metadata": {},
     "output_type": "execute_result"
    }
   ],
   "source": [
    "len(set([word for sentence in valid_queries for word in sentence.split(\" \")]))"
   ],
   "metadata": {
    "collapsed": false,
    "pycharm": {
     "name": "#%%\n"
    }
   }
  },
  {
   "cell_type": "code",
   "execution_count": 20,
   "outputs": [
    {
     "data": {
      "text/plain": "1650"
     },
     "execution_count": 20,
     "metadata": {},
     "output_type": "execute_result"
    }
   ],
   "source": [
    "len(set([word for sentence in train_queries for word in sentence.split(\" \")]))"
   ],
   "metadata": {
    "collapsed": false,
    "pycharm": {
     "name": "#%%\n"
    }
   }
  },
  {
   "cell_type": "code",
   "execution_count": 21,
   "outputs": [
    {
     "data": {
      "text/plain": "2308"
     },
     "execution_count": 21,
     "metadata": {},
     "output_type": "execute_result"
    }
   ],
   "source": [
    "len(set([word for sentence in test_queries for word in sentence.split(\" \")]))"
   ],
   "metadata": {
    "collapsed": false,
    "pycharm": {
     "name": "#%%\n"
    }
   }
  },
  {
   "cell_type": "code",
   "execution_count": 13,
   "outputs": [
    {
     "data": {
      "text/plain": "365"
     },
     "execution_count": 13,
     "metadata": {},
     "output_type": "execute_result"
    }
   ],
   "source": [
    "len( set([word for sentence in train_queries for word in sentence.split(\" \")]) - set([word for sentence in test_queries for word in sentence.split(\" \")]))"
   ],
   "metadata": {
    "collapsed": false,
    "pycharm": {
     "name": "#%%\n"
    }
   }
  },
  {
   "cell_type": "code",
   "execution_count": 14,
   "outputs": [
    {
     "data": {
      "text/plain": "4.4031746031746035"
     },
     "execution_count": 14,
     "metadata": {},
     "output_type": "execute_result"
    }
   ],
   "source": [
    "sum(avg_train)/len(avg_train)"
   ],
   "metadata": {
    "collapsed": false,
    "pycharm": {
     "name": "#%%\n"
    }
   }
  },
  {
   "cell_type": "code",
   "execution_count": 15,
   "outputs": [
    {
     "data": {
      "text/plain": "35.405291005291005"
     },
     "execution_count": 15,
     "metadata": {},
     "output_type": "execute_result"
    }
   ],
   "source": [
    "sum(avg_test)/len(avg_test)"
   ],
   "metadata": {
    "collapsed": false,
    "pycharm": {
     "name": "#%%\n"
    }
   }
  },
  {
   "cell_type": "code",
   "execution_count": 16,
   "outputs": [
    {
     "data": {
      "text/plain": "2.984126984126984"
     },
     "execution_count": 16,
     "metadata": {},
     "output_type": "execute_result"
    }
   ],
   "source": [
    "sum(avg_valid)/len(avg_valid)\n"
   ],
   "metadata": {
    "collapsed": false,
    "pycharm": {
     "name": "#%%\n"
    }
   }
  },
  {
   "cell_type": "code",
   "execution_count": null,
   "outputs": [],
   "source": [],
   "metadata": {
    "collapsed": false,
    "pycharm": {
     "name": "#%%\n"
    }
   }
  }
 ],
 "metadata": {
  "kernelspec": {
   "display_name": "Python 3",
   "language": "python",
   "name": "python3"
  },
  "language_info": {
   "codemirror_mode": {
    "name": "ipython",
    "version": 2
   },
   "file_extension": ".py",
   "mimetype": "text/x-python",
   "name": "python",
   "nbconvert_exporter": "python",
   "pygments_lexer": "ipython2",
   "version": "2.7.6"
  }
 },
 "nbformat": 4,
 "nbformat_minor": 0
}